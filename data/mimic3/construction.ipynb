{
 "cells": [
  {
   "cell_type": "code",
   "execution_count": 32,
   "metadata": {},
   "outputs": [],
   "source": [
    "import os\n",
    "import dill\n",
    "import jsonlines\n",
    "import pandas as pd\n",
    "from utils import med_process, diag_process, combine_process, process_visit_lg2, procedure_process, ATC3toDrug, codeMapping2atc4, filter_300_most_med\n",
    "from utils import atc3toSMILES as ATC3toSMILES"
   ]
  },
  {
   "cell_type": "code",
   "execution_count": 33,
   "metadata": {},
   "outputs": [],
   "source": [
    "class Voc(object):\n",
    "    '''Define the vocabulary (token) dict'''\n",
    "\n",
    "    def __init__(self):\n",
    "\n",
    "        self.idx2word = {}\n",
    "        self.word2idx = {}\n",
    "\n",
    "    def add_sentence(self, sentence):\n",
    "        '''add vocabulary to dict via a list of words'''\n",
    "        for word in sentence:\n",
    "            if word not in self.word2idx:\n",
    "                self.idx2word[len(self.word2idx)] = word\n",
    "                self.word2idx[word] = len(self.word2idx)\n",
    "\n",
    "# create voc set\n",
    "def create_str_token_mapping(df, vocabulary_file):\n",
    "    diag_voc = Voc()\n",
    "    med_voc = Voc()\n",
    "    pro_voc = Voc()\n",
    "\n",
    "    for index, row in df.iterrows():\n",
    "        diag_voc.add_sentence(row[\"ICD9_CODE\"])\n",
    "        med_voc.add_sentence(row[\"ATC3\"])\n",
    "        pro_voc.add_sentence(row[\"PRO_CODE\"])\n",
    "\n",
    "    dill.dump(\n",
    "        obj={\"diag_voc\": diag_voc, \"med_voc\": med_voc, \"pro_voc\": pro_voc},\n",
    "        file=open(vocabulary_file, \"wb\"),\n",
    "    )\n",
    "    return diag_voc, med_voc, pro_voc"
   ]
  },
  {
   "cell_type": "code",
   "execution_count": 35,
   "metadata": {},
   "outputs": [],
   "source": [
    "tokenizer = dill.load(open(\"./handled/voc_final.pkl\", \"rb\"))"
   ]
  },
  {
   "attachments": {},
   "cell_type": "markdown",
   "metadata": {},
   "source": [
    "## Step 1:\n",
    "Preprocess the raw MIMIC-III data as the original medication recommendation works"
   ]
  },
  {
   "cell_type": "code",
   "execution_count": 36,
   "metadata": {},
   "outputs": [],
   "source": [
    "base_dir = \"\"   # base folder\n",
    "\n",
    "## Some auxiliary info, such as DDI, ATC and ICD\n",
    "RXCUI2atc4_file = os.path.join(base_dir, \"./auxiliary/RXCUI2atc4.csv\")\n",
    "cid2atc6_file = os.path.join(base_dir, \"./auxiliary/drug-atc.csv\")\n",
    "ndc2RXCUI_file = os.path.join(base_dir, \"./auxiliary/ndc2RXCUI.txt\")\n",
    "ddi_file = os.path.join(base_dir, \"./auxiliary/drug-DDI.csv\")\n",
    "drugbankinfo = os.path.join(base_dir, \"./auxiliary/drugbank_drugs_info.csv\")"
   ]
  },
  {
   "cell_type": "code",
   "execution_count": 37,
   "metadata": {},
   "outputs": [],
   "source": [
    "med_file = os.path.join(base_dir, \"./raw/PRESCRIPTIONS.csv\")\n",
    "diag_file = os.path.join(base_dir, \"./raw/DIAGNOSES_ICD.csv\")\n",
    "procedure_file = (\n",
    "    os.path.join(base_dir, \"./raw/PROCEDURES_ICD.csv\")\n",
    ")\n",
    "\n",
    "# input auxiliary files\n",
    "med_structure_file = os.path.join(base_dir, \"./handled/atc32SMILES.pkl\")\n",
    "\n",
    "# output files\n",
    "ddi_adjacency_file = os.path.join(base_dir, \"./handled/full/ddi_A_final.pkl\")\n",
    "ehr_adjacency_file = os.path.join(base_dir, \"./handled/full/ehr_adj_final.pkl\")\n",
    "ehr_sequence_file = os.path.join(base_dir, \"./handled/full/records_final.pkl\")\n",
    "vocabulary_file = os.path.join(base_dir, \"./handled/full/voc_final.pkl\")\n",
    "ddi_mask_H_file = os.path.join(base_dir, \"./handled/full/ddi_mask_H.pkl\")\n",
    "atc3toSMILES_file = os.path.join(base_dir, \"./handled/full/atc3toSMILES.pkl\")"
   ]
  },
  {
   "cell_type": "code",
   "execution_count": 42,
   "metadata": {},
   "outputs": [
    {
     "name": "stderr",
     "output_type": "stream",
     "text": [
      "/tmp/ipykernel_182435/3779186658.py:14: DtypeWarning: Columns (30) have mixed types. Specify dtype option on import or set low_memory=False.\n",
      "  druginfo = pd.read_csv(drugbankinfo)\n"
     ]
    },
    {
     "name": "stdout",
     "output_type": "stream",
     "text": [
      "complete medication processing\n",
      "complete diagnosis processing\n",
      "complete procedure processing\n",
      "complete combining\n"
     ]
    }
   ],
   "source": [
    "# for med\n",
    "med_pd = med_process(med_file)  # process the raw file\n",
    "# med_pd_lg2 = process_visit_lg1(med_pd).reset_index(drop=True)   # remain the single-visit\n",
    "med_pd_lg2 = process_visit_lg2(med_pd).reset_index(drop=True)   # filter out the patient has less 2 visits\n",
    "med_pd = med_pd.merge(\n",
    "    med_pd_lg2[[\"SUBJECT_ID\"]], on=\"SUBJECT_ID\", how=\"inner\"\n",
    ").reset_index(drop=True)\n",
    "\n",
    "med_pd = codeMapping2atc4(med_pd, ndc2RXCUI_file, RXCUI2atc4_file)\n",
    "med_pd = filter_300_most_med(med_pd)\n",
    "\n",
    "# med to SMILES mapping\n",
    "atc3toDrug = ATC3toDrug(med_pd)\n",
    "druginfo = pd.read_csv(drugbankinfo)\n",
    "atc3toSMILES = ATC3toSMILES(atc3toDrug, druginfo)\n",
    "dill.dump(atc3toSMILES, open(atc3toSMILES_file, \"wb\"))\n",
    "med_pd = med_pd[med_pd.ATC3.isin(atc3toSMILES.keys())]\n",
    "print(\"complete medication processing\")\n",
    "\n",
    "# for diagnosis\n",
    "diag_pd = diag_process(diag_file)\n",
    "\n",
    "print(\"complete diagnosis processing\")\n",
    "\n",
    "# for procedure\n",
    "pro_pd = procedure_process(procedure_file)\n",
    "# pro_pd = filter_1000_most_pro(pro_pd)\n",
    "\n",
    "print(\"complete procedure processing\")\n",
    "\n",
    "# combine\n",
    "data = combine_process(med_pd, diag_pd, pro_pd)\n",
    "print(\"complete combining\")"
   ]
  },
  {
   "cell_type": "code",
   "execution_count": 43,
   "metadata": {},
   "outputs": [
    {
     "name": "stdout",
     "output_type": "stream",
     "text": [
      "#patients  (13,)\n",
      "#clinical events  38\n",
      "#diagnosis  246\n",
      "#med  44\n",
      "#procedure 58\n",
      "#avg of diagnoses  9.421052631578947\n",
      "#avg of medicines  5.973684210526316\n",
      "#avg of procedures  2.6578947368421053\n",
      "#avg of vists  2.923076923076923\n",
      "#max of diagnoses  84\n",
      "#max of medicines  31\n",
      "#max of procedures  22\n",
      "#max of visit  14\n"
     ]
    }
   ],
   "source": [
    "statistics(data)"
   ]
  },
  {
   "cell_type": "code",
   "execution_count": 47,
   "metadata": {},
   "outputs": [
    {
     "name": "stdout",
     "output_type": "stream",
     "text": [
      "obtain voc\n",
      "obtain ehr sequence data\n",
      "obtain ddi adj matrix\n"
     ]
    }
   ],
   "source": [
    "# create vocab\n",
    "diag_voc, med_voc, pro_voc = create_str_token_mapping(data, vocabulary_file)\n",
    "print(\"obtain voc\")\n",
    "\n",
    "# create ehr sequence data\n",
    "records = create_patient_record(data, diag_voc, med_voc, pro_voc, ehr_sequence_file)\n",
    "print(\"obtain ehr sequence data\")\n",
    "\n",
    "# create ddi adj matrix\n",
    "ddi_adj = get_ddi_matrix(records, med_voc, ddi_file, cid2atc6_file, ehr_adjacency_file, ddi_adjacency_file)\n",
    "print(\"obtain ddi adj matrix\")\n",
    "\n",
    "# get ddi_mask_H\n",
    "ddi_mask_H = get_ddi_mask(atc3toSMILES, med_voc)\n",
    "dill.dump(ddi_mask_H, open(ddi_mask_H_file, \"wb\"))"
   ]
  },
  {
   "attachments": {},
   "cell_type": "markdown",
   "metadata": {},
   "source": [
    "## Step 2: Get side info\n",
    "Extract side information of patients from other csv"
   ]
  },
  {
   "cell_type": "code",
   "execution_count": 48,
   "metadata": {},
   "outputs": [],
   "source": [
    "def get_side(source_df, side_df, side_columns, aligh_column):\n",
    "\n",
    "    side_df = side_df[side_columns]\n",
    "    source_df = pd.merge(source_df, side_df, how=\"left\", on=aligh_column)\n",
    "\n",
    "    return source_df"
   ]
  },
  {
   "cell_type": "code",
   "execution_count": 50,
   "metadata": {},
   "outputs": [],
   "source": [
    "admission = pd.read_csv(\"./raw/ADMISSIONS.csv\")\n",
    "data = get_side(data, admission, \n",
    "                [\"HADM_ID\", \"INSURANCE\", \"LANGUAGE\", \"RELIGION\", \"MARITAL_STATUS\", \"ETHNICITY\", \"DIAGNOSIS\"],\n",
    "                \"HADM_ID\"\n",
    "                )"
   ]
  },
  {
   "cell_type": "code",
   "execution_count": 51,
   "metadata": {},
   "outputs": [],
   "source": [
    "data.fillna(value=\"unknown\", inplace=True)"
   ]
  },
  {
   "attachments": {},
   "cell_type": "markdown",
   "metadata": {},
   "source": [
    "## Step 3: Map ATC to drugname\n",
    "Resolve the mapping. In the original preprocessed data, the drug is represented by ATC code, but we need the drugname for LLM.\n"
   ]
  },
  {
   "cell_type": "code",
   "execution_count": 52,
   "metadata": {},
   "outputs": [],
   "source": [
    "RXCUI2atc4 = pd.read_csv(RXCUI2atc4_file)\n",
    "RXCUI2atc4[\"NDC\"] = RXCUI2atc4[\"NDC\"].map(lambda x: x.replace(\"-\", \"\"))\n",
    "with open(ndc2RXCUI_file, \"r\") as f:\n",
    "    ndc2RXCUI = eval(f.read())"
   ]
  },
  {
   "cell_type": "code",
   "execution_count": 53,
   "metadata": {},
   "outputs": [],
   "source": [
    "RXCUI2ndc = dict(zip(ndc2RXCUI.values(), ndc2RXCUI.keys()))\n",
    "RXCUI2atc4[\"RXCUI\"] = RXCUI2atc4[\"RXCUI\"].astype(\"str\")\n",
    "RXCUI2atc4[\"NDC\"] = RXCUI2atc4[\"RXCUI\"].map(RXCUI2ndc)\n",
    "RXCUI2atc4.dropna(axis=0, how=\"any\", inplace=True)\n",
    "RXCUI2atc4.drop_duplicates(inplace=True)"
   ]
  },
  {
   "cell_type": "code",
   "execution_count": 54,
   "metadata": {},
   "outputs": [
    {
     "data": {
      "text/plain": [
       "((32732, 5),\n",
       " YEAR       73\n",
       " MONTH      12\n",
       " NDC      2037\n",
       " RXCUI    2037\n",
       " ATC4      445\n",
       " dtype: int64)"
      ]
     },
     "execution_count": 54,
     "metadata": {},
     "output_type": "execute_result"
    }
   ],
   "source": [
    "RXCUI2atc4.shape, RXCUI2atc4.nunique()"
   ]
  },
  {
   "cell_type": "code",
   "execution_count": 55,
   "metadata": {},
   "outputs": [
    {
     "data": {
      "text/plain": [
       "(32732, 5)"
      ]
     },
     "execution_count": 55,
     "metadata": {},
     "output_type": "execute_result"
    }
   ],
   "source": [
    "RXCUI2atc4.drop_duplicates(inplace=True)\n",
    "RXCUI2atc4.shape"
   ]
  },
  {
   "cell_type": "code",
   "execution_count": 56,
   "metadata": {},
   "outputs": [
    {
     "data": {
      "text/html": [
       "<div>\n",
       "<style scoped>\n",
       "    .dataframe tbody tr th:only-of-type {\n",
       "        vertical-align: middle;\n",
       "    }\n",
       "\n",
       "    .dataframe tbody tr th {\n",
       "        vertical-align: top;\n",
       "    }\n",
       "\n",
       "    .dataframe thead th {\n",
       "        text-align: right;\n",
       "    }\n",
       "</style>\n",
       "<table border=\"1\" class=\"dataframe\">\n",
       "  <thead>\n",
       "    <tr style=\"text-align: right;\">\n",
       "      <th></th>\n",
       "      <th>SUBJECT_ID</th>\n",
       "      <th>HADM_ID</th>\n",
       "      <th>STARTDATE</th>\n",
       "      <th>DRUG</th>\n",
       "      <th>ATC3</th>\n",
       "    </tr>\n",
       "  </thead>\n",
       "  <tbody>\n",
       "    <tr>\n",
       "      <th>0</th>\n",
       "      <td>10059</td>\n",
       "      <td>122098</td>\n",
       "      <td>2150-08-22</td>\n",
       "      <td>Magnesium Sulfate</td>\n",
       "      <td>A06A</td>\n",
       "    </tr>\n",
       "    <tr>\n",
       "      <th>1</th>\n",
       "      <td>10059</td>\n",
       "      <td>122098</td>\n",
       "      <td>2150-08-25</td>\n",
       "      <td>Magnesium Sulfate</td>\n",
       "      <td>A06A</td>\n",
       "    </tr>\n",
       "    <tr>\n",
       "      <th>2</th>\n",
       "      <td>10088</td>\n",
       "      <td>149044</td>\n",
       "      <td>2107-05-13</td>\n",
       "      <td>Magnesium Sulfate</td>\n",
       "      <td>A06A</td>\n",
       "    </tr>\n",
       "    <tr>\n",
       "      <th>3</th>\n",
       "      <td>10088</td>\n",
       "      <td>149044</td>\n",
       "      <td>2107-05-15</td>\n",
       "      <td>Magnesium Sulfate</td>\n",
       "      <td>A06A</td>\n",
       "    </tr>\n",
       "    <tr>\n",
       "      <th>4</th>\n",
       "      <td>10088</td>\n",
       "      <td>168233</td>\n",
       "      <td>2107-02-01</td>\n",
       "      <td>Magnesium Sulfate</td>\n",
       "      <td>A06A</td>\n",
       "    </tr>\n",
       "  </tbody>\n",
       "</table>\n",
       "</div>"
      ],
      "text/plain": [
       "   SUBJECT_ID  HADM_ID  STARTDATE               DRUG  ATC3\n",
       "0       10059   122098 2150-08-22  Magnesium Sulfate  A06A\n",
       "1       10059   122098 2150-08-25  Magnesium Sulfate  A06A\n",
       "2       10088   149044 2107-05-13  Magnesium Sulfate  A06A\n",
       "3       10088   149044 2107-05-15  Magnesium Sulfate  A06A\n",
       "4       10088   168233 2107-02-01  Magnesium Sulfate  A06A"
      ]
     },
     "execution_count": 56,
     "metadata": {},
     "output_type": "execute_result"
    }
   ],
   "source": [
    "med_pd.head(5)"
   ]
  },
  {
   "cell_type": "code",
   "execution_count": 57,
   "metadata": {},
   "outputs": [
    {
     "data": {
      "text/html": [
       "<div>\n",
       "<style scoped>\n",
       "    .dataframe tbody tr th:only-of-type {\n",
       "        vertical-align: middle;\n",
       "    }\n",
       "\n",
       "    .dataframe tbody tr th {\n",
       "        vertical-align: top;\n",
       "    }\n",
       "\n",
       "    .dataframe thead th {\n",
       "        text-align: right;\n",
       "    }\n",
       "</style>\n",
       "<table border=\"1\" class=\"dataframe\">\n",
       "  <thead>\n",
       "    <tr style=\"text-align: right;\">\n",
       "      <th></th>\n",
       "      <th>ROW_ID</th>\n",
       "      <th>SUBJECT_ID</th>\n",
       "      <th>HADM_ID</th>\n",
       "      <th>ICUSTAY_ID</th>\n",
       "      <th>STARTDATE</th>\n",
       "      <th>ENDDATE</th>\n",
       "      <th>DRUG_TYPE</th>\n",
       "      <th>DRUG</th>\n",
       "      <th>DRUG_NAME_POE</th>\n",
       "      <th>DRUG_NAME_GENERIC</th>\n",
       "      <th>FORMULARY_DRUG_CD</th>\n",
       "      <th>GSN</th>\n",
       "      <th>NDC</th>\n",
       "      <th>PROD_STRENGTH</th>\n",
       "      <th>DOSE_VAL_RX</th>\n",
       "      <th>DOSE_UNIT_RX</th>\n",
       "      <th>FORM_VAL_DISP</th>\n",
       "      <th>FORM_UNIT_DISP</th>\n",
       "      <th>ROUTE</th>\n",
       "    </tr>\n",
       "  </thead>\n",
       "  <tbody>\n",
       "    <tr>\n",
       "      <th>0</th>\n",
       "      <td>32600</td>\n",
       "      <td>42458</td>\n",
       "      <td>159647</td>\n",
       "      <td>NaN</td>\n",
       "      <td>2146-07-21 00:00:00</td>\n",
       "      <td>2146-07-22 00:00:00</td>\n",
       "      <td>MAIN</td>\n",
       "      <td>Pneumococcal Vac Polyvalent</td>\n",
       "      <td>Pneumococcal Vac Polyvalent</td>\n",
       "      <td>PNEUMOcoccal Vac Polyvalent</td>\n",
       "      <td>PNEU25I</td>\n",
       "      <td>48548.0</td>\n",
       "      <td>00006494300</td>\n",
       "      <td>25mcg/0.5mL Vial</td>\n",
       "      <td>0.5</td>\n",
       "      <td>mL</td>\n",
       "      <td>1</td>\n",
       "      <td>VIAL</td>\n",
       "      <td>IM</td>\n",
       "    </tr>\n",
       "    <tr>\n",
       "      <th>1</th>\n",
       "      <td>32601</td>\n",
       "      <td>42458</td>\n",
       "      <td>159647</td>\n",
       "      <td>NaN</td>\n",
       "      <td>2146-07-21 00:00:00</td>\n",
       "      <td>2146-07-22 00:00:00</td>\n",
       "      <td>MAIN</td>\n",
       "      <td>Bisacodyl</td>\n",
       "      <td>Bisacodyl</td>\n",
       "      <td>Bisacodyl</td>\n",
       "      <td>BISA5</td>\n",
       "      <td>2947.0</td>\n",
       "      <td>00536338101</td>\n",
       "      <td>5 mg Tab</td>\n",
       "      <td>10</td>\n",
       "      <td>mg</td>\n",
       "      <td>2</td>\n",
       "      <td>TAB</td>\n",
       "      <td>PO</td>\n",
       "    </tr>\n",
       "    <tr>\n",
       "      <th>2</th>\n",
       "      <td>32602</td>\n",
       "      <td>42458</td>\n",
       "      <td>159647</td>\n",
       "      <td>NaN</td>\n",
       "      <td>2146-07-21 00:00:00</td>\n",
       "      <td>2146-07-22 00:00:00</td>\n",
       "      <td>MAIN</td>\n",
       "      <td>Bisacodyl</td>\n",
       "      <td>Bisacodyl</td>\n",
       "      <td>Bisacodyl (Rectal)</td>\n",
       "      <td>BISA10R</td>\n",
       "      <td>2944.0</td>\n",
       "      <td>00574705050</td>\n",
       "      <td>10mg Suppository</td>\n",
       "      <td>10</td>\n",
       "      <td>mg</td>\n",
       "      <td>1</td>\n",
       "      <td>SUPP</td>\n",
       "      <td>PR</td>\n",
       "    </tr>\n",
       "    <tr>\n",
       "      <th>3</th>\n",
       "      <td>32603</td>\n",
       "      <td>42458</td>\n",
       "      <td>159647</td>\n",
       "      <td>NaN</td>\n",
       "      <td>2146-07-21 00:00:00</td>\n",
       "      <td>2146-07-22 00:00:00</td>\n",
       "      <td>MAIN</td>\n",
       "      <td>Senna</td>\n",
       "      <td>Senna</td>\n",
       "      <td>Senna</td>\n",
       "      <td>SENN187</td>\n",
       "      <td>19964.0</td>\n",
       "      <td>00904516561</td>\n",
       "      <td>1 Tablet</td>\n",
       "      <td>1</td>\n",
       "      <td>TAB</td>\n",
       "      <td>1</td>\n",
       "      <td>TAB</td>\n",
       "      <td>PO</td>\n",
       "    </tr>\n",
       "    <tr>\n",
       "      <th>4</th>\n",
       "      <td>32604</td>\n",
       "      <td>42458</td>\n",
       "      <td>159647</td>\n",
       "      <td>NaN</td>\n",
       "      <td>2146-07-21 00:00:00</td>\n",
       "      <td>2146-07-21 00:00:00</td>\n",
       "      <td>MAIN</td>\n",
       "      <td>Docusate Sodium (Liquid)</td>\n",
       "      <td>Docusate Sodium (Liquid)</td>\n",
       "      <td>Docusate Sodium (Liquid)</td>\n",
       "      <td>DOCU100L</td>\n",
       "      <td>3017.0</td>\n",
       "      <td>00121054410</td>\n",
       "      <td>100mg UD Cup</td>\n",
       "      <td>100</td>\n",
       "      <td>mg</td>\n",
       "      <td>1</td>\n",
       "      <td>UDCUP</td>\n",
       "      <td>PO</td>\n",
       "    </tr>\n",
       "  </tbody>\n",
       "</table>\n",
       "</div>"
      ],
      "text/plain": [
       "   ROW_ID  SUBJECT_ID  HADM_ID  ICUSTAY_ID            STARTDATE   \n",
       "0   32600       42458   159647         NaN  2146-07-21 00:00:00  \\\n",
       "1   32601       42458   159647         NaN  2146-07-21 00:00:00   \n",
       "2   32602       42458   159647         NaN  2146-07-21 00:00:00   \n",
       "3   32603       42458   159647         NaN  2146-07-21 00:00:00   \n",
       "4   32604       42458   159647         NaN  2146-07-21 00:00:00   \n",
       "\n",
       "               ENDDATE DRUG_TYPE                         DRUG   \n",
       "0  2146-07-22 00:00:00      MAIN  Pneumococcal Vac Polyvalent  \\\n",
       "1  2146-07-22 00:00:00      MAIN                    Bisacodyl   \n",
       "2  2146-07-22 00:00:00      MAIN                    Bisacodyl   \n",
       "3  2146-07-22 00:00:00      MAIN                        Senna   \n",
       "4  2146-07-21 00:00:00      MAIN     Docusate Sodium (Liquid)   \n",
       "\n",
       "                 DRUG_NAME_POE            DRUG_NAME_GENERIC FORMULARY_DRUG_CD   \n",
       "0  Pneumococcal Vac Polyvalent  PNEUMOcoccal Vac Polyvalent           PNEU25I  \\\n",
       "1                    Bisacodyl                    Bisacodyl             BISA5   \n",
       "2                    Bisacodyl           Bisacodyl (Rectal)           BISA10R   \n",
       "3                        Senna                        Senna           SENN187   \n",
       "4     Docusate Sodium (Liquid)     Docusate Sodium (Liquid)          DOCU100L   \n",
       "\n",
       "       GSN          NDC     PROD_STRENGTH DOSE_VAL_RX DOSE_UNIT_RX   \n",
       "0  48548.0  00006494300  25mcg/0.5mL Vial         0.5           mL  \\\n",
       "1   2947.0  00536338101          5 mg Tab          10           mg   \n",
       "2   2944.0  00574705050  10mg Suppository          10           mg   \n",
       "3  19964.0  00904516561          1 Tablet           1          TAB   \n",
       "4   3017.0  00121054410      100mg UD Cup         100           mg   \n",
       "\n",
       "  FORM_VAL_DISP FORM_UNIT_DISP ROUTE  \n",
       "0             1           VIAL    IM  \n",
       "1             2            TAB    PO  \n",
       "2             1           SUPP    PR  \n",
       "3             1            TAB    PO  \n",
       "4             1          UDCUP    PO  "
      ]
     },
     "execution_count": 57,
     "metadata": {},
     "output_type": "execute_result"
    }
   ],
   "source": [
    "med_pd = pd.read_csv(med_file, dtype={\"NDC\": \"category\"})\n",
    "med_pd.head(5)"
   ]
  },
  {
   "cell_type": "code",
   "execution_count": 58,
   "metadata": {},
   "outputs": [],
   "source": [
    "med_pd[\"NDC\"].astype(\"str\")\n",
    "med_pd = pd.merge(med_pd, RXCUI2atc4, how=\"left\", on=\"NDC\")"
   ]
  },
  {
   "cell_type": "code",
   "execution_count": 60,
   "metadata": {},
   "outputs": [],
   "source": [
    "atc2drug = pd.read_csv(\"./auxiliary/WHO ATC-DDD 2021-12-03.csv\")\n",
    "atc2drug[\"code_len\"] = atc2drug[\"atc_code\"].map(lambda x: len(x))\n",
    "atc2drug = atc2drug[atc2drug[\"code_len\"]==4]    # all levels are included. We only need the 4th level, i.e., ATC4\n",
    "atc2drug.rename(columns={\"atc_code\": \"ATC4\"}, inplace=True)\n",
    "atc2drug.drop(columns=[\"ddd\", \"uom\", \"adm_r\", \"note\", \"code_len\"], axis=1, inplace=True)"
   ]
  },
  {
   "cell_type": "code",
   "execution_count": 61,
   "metadata": {},
   "outputs": [
    {
     "data": {
      "text/html": [
       "<div>\n",
       "<style scoped>\n",
       "    .dataframe tbody tr th:only-of-type {\n",
       "        vertical-align: middle;\n",
       "    }\n",
       "\n",
       "    .dataframe tbody tr th {\n",
       "        vertical-align: top;\n",
       "    }\n",
       "\n",
       "    .dataframe thead th {\n",
       "        text-align: right;\n",
       "    }\n",
       "</style>\n",
       "<table border=\"1\" class=\"dataframe\">\n",
       "  <thead>\n",
       "    <tr style=\"text-align: right;\">\n",
       "      <th></th>\n",
       "      <th>ATC4</th>\n",
       "      <th>atc_name</th>\n",
       "    </tr>\n",
       "  </thead>\n",
       "  <tbody>\n",
       "    <tr>\n",
       "      <th>2</th>\n",
       "      <td>A01A</td>\n",
       "      <td>STOMATOLOGICAL PREPARATIONS</td>\n",
       "    </tr>\n",
       "    <tr>\n",
       "      <th>46</th>\n",
       "      <td>A02A</td>\n",
       "      <td>ANTACIDS</td>\n",
       "    </tr>\n",
       "    <tr>\n",
       "      <th>79</th>\n",
       "      <td>A02B</td>\n",
       "      <td>DRUGS FOR PEPTIC ULCER AND GASTRO-OESOPHAGEAL ...</td>\n",
       "    </tr>\n",
       "    <tr>\n",
       "      <th>147</th>\n",
       "      <td>A02X</td>\n",
       "      <td>OTHER DRUGS FOR ACID RELATED DISORDERS</td>\n",
       "    </tr>\n",
       "    <tr>\n",
       "      <th>149</th>\n",
       "      <td>A03A</td>\n",
       "      <td>DRUGS FOR FUNCTIONAL GASTROINTESTINAL DISORDERS</td>\n",
       "    </tr>\n",
       "    <tr>\n",
       "      <th>219</th>\n",
       "      <td>A03B</td>\n",
       "      <td>BELLADONNA AND DERIVATIVES, PLAIN</td>\n",
       "    </tr>\n",
       "    <tr>\n",
       "      <th>235</th>\n",
       "      <td>A03C</td>\n",
       "      <td>ANTISPASMODICS IN COMBINATION WITH PSYCHOLEPTICS</td>\n",
       "    </tr>\n",
       "    <tr>\n",
       "      <th>255</th>\n",
       "      <td>A03D</td>\n",
       "      <td>ANTISPASMODICS IN COMBINATION WITH ANALGESICS</td>\n",
       "    </tr>\n",
       "    <tr>\n",
       "      <th>267</th>\n",
       "      <td>A03E</td>\n",
       "      <td>ANTISPASMODICS AND ANTICHOLINERGICS IN COMBINA...</td>\n",
       "    </tr>\n",
       "    <tr>\n",
       "      <th>270</th>\n",
       "      <td>A03F</td>\n",
       "      <td>PROPULSIVES</td>\n",
       "    </tr>\n",
       "  </tbody>\n",
       "</table>\n",
       "</div>"
      ],
      "text/plain": [
       "     ATC4                                           atc_name\n",
       "2    A01A                        STOMATOLOGICAL PREPARATIONS\n",
       "46   A02A                                           ANTACIDS\n",
       "79   A02B  DRUGS FOR PEPTIC ULCER AND GASTRO-OESOPHAGEAL ...\n",
       "147  A02X             OTHER DRUGS FOR ACID RELATED DISORDERS\n",
       "149  A03A    DRUGS FOR FUNCTIONAL GASTROINTESTINAL DISORDERS\n",
       "219  A03B                  BELLADONNA AND DERIVATIVES, PLAIN\n",
       "235  A03C   ANTISPASMODICS IN COMBINATION WITH PSYCHOLEPTICS\n",
       "255  A03D      ANTISPASMODICS IN COMBINATION WITH ANALGESICS\n",
       "267  A03E  ANTISPASMODICS AND ANTICHOLINERGICS IN COMBINA...\n",
       "270  A03F                                        PROPULSIVES"
      ]
     },
     "execution_count": 61,
     "metadata": {},
     "output_type": "execute_result"
    }
   ],
   "source": [
    "atc2drug.head(10)"
   ]
  },
  {
   "cell_type": "code",
   "execution_count": 62,
   "metadata": {},
   "outputs": [],
   "source": [
    "RXCUI2atc4[\"ATC4\"] = RXCUI2atc4[\"ATC4\"].map(lambda x: x[:4])"
   ]
  },
  {
   "cell_type": "code",
   "execution_count": 63,
   "metadata": {},
   "outputs": [
    {
     "data": {
      "text/plain": [
       "0"
      ]
     },
     "execution_count": 63,
     "metadata": {},
     "output_type": "execute_result"
    }
   ],
   "source": [
    "# all atc code in original data can be mapped to drugname by atc2drug.\n",
    "# means that we use the same data as the traditional medication recommendation models.\n",
    "pd.merge(RXCUI2atc4, atc2drug, on=\"ATC4\", how=\"left\")[\"atc_name\"].isna().sum()"
   ]
  },
  {
   "cell_type": "code",
   "execution_count": 64,
   "metadata": {},
   "outputs": [],
   "source": [
    "atc2drug[\"atc_name\"] = atc2drug[\"atc_name\"].map(lambda x: x.lower())"
   ]
  },
  {
   "cell_type": "code",
   "execution_count": 70,
   "metadata": {},
   "outputs": [],
   "source": [
    "# get the atc2drug and drug2atc mapping dict\n",
    "atc2drug_dict = dict(zip(atc2drug[\"ATC4\"].values, atc2drug[\"atc_name\"].values))\n",
    "drug2atc_dict = dict(zip(atc2drug[\"atc_name\"].values, atc2drug[\"ATC4\"].values))"
   ]
  },
  {
   "cell_type": "code",
   "execution_count": 68,
   "metadata": {},
   "outputs": [],
   "source": [
    "# import json\n",
    "# json.dump({\"atc2drug\": atc2drug_dict, \"drug2atc\": drug2atc_dict}, open(\"./handled/full_atc2drug.json\", \"w\"))"
   ]
  },
  {
   "cell_type": "code",
   "execution_count": 71,
   "metadata": {},
   "outputs": [],
   "source": [
    "# get the diagnosis and procedure mapping dict, which both use the ICD. these mappings are in raw MIMIC dataset\n",
    "icd2diag = pd.read_csv(\"./raw/D_ICD_DIAGNOSES.csv\")\n",
    "icd2diag_dict = dict(zip(icd2diag[\"ICD9_CODE\"].astype(str).values, icd2diag[\"SHORT_TITLE\"].values))"
   ]
  },
  {
   "cell_type": "code",
   "execution_count": 73,
   "metadata": {},
   "outputs": [],
   "source": [
    "icd2proc = pd.read_csv(\"./raw/D_ICD_PROCEDURES.csv\")\n",
    "icd2proc_dict = dict(zip(icd2proc[\"ICD9_CODE\"].astype(str).values, icd2proc[\"SHORT_TITLE\"].values))"
   ]
  },
  {
   "cell_type": "code",
   "execution_count": 74,
   "metadata": {},
   "outputs": [],
   "source": [
    "def decode(code_list, decoder):\n",
    "    # decode a list of code into corresponding names\n",
    "    miss_match = 0\n",
    "    target_list = []\n",
    "    for code in code_list:\n",
    "        try:\n",
    "            target_list.append(decoder[code])\n",
    "        except:\n",
    "            miss_match += 1\n",
    "    \n",
    "    #print(miss_match)\n",
    "\n",
    "    return target_list"
   ]
  },
  {
   "cell_type": "code",
   "execution_count": 75,
   "metadata": {},
   "outputs": [],
   "source": [
    "data[\"drug\"] = data[\"ATC3\"].map(lambda x: decode(x, atc2drug_dict))\n",
    "data[\"diagnosis\"] = data[\"ICD9_CODE\"].map(lambda x: decode(x, icd2diag_dict))\n",
    "data[\"procedure\"] = data[\"PRO_CODE\"].map(lambda x: decode(x, icd2proc_dict))"
   ]
  },
  {
   "attachments": {},
   "cell_type": "markdown",
   "metadata": {},
   "source": [
    "some miss matches occurs in diagnosis and procedures, but no for drug"
   ]
  },
  {
   "cell_type": "code",
   "execution_count": 76,
   "metadata": {},
   "outputs": [
    {
     "data": {
      "text/plain": [
       "['4233', '9904']"
      ]
     },
     "execution_count": 76,
     "metadata": {},
     "output_type": "execute_result"
    }
   ],
   "source": [
    "data.iloc[1][\"PRO_CODE\"]"
   ]
  },
  {
   "cell_type": "code",
   "execution_count": 77,
   "metadata": {},
   "outputs": [],
   "source": [
    "def profile_tokenization(df, profile_columns):\n",
    "    prof_dict = {\"word2idx\":{}, \"idx2word\": {}}\n",
    "    for prof in profile_columns:\n",
    "        prof_dict[\"idx2word\"][prof] = dict(zip(range(df[prof].nunique()), df[prof].unique()))\n",
    "        prof_dict[\"word2idx\"][prof] = dict(zip(df[prof].unique(), range(df[prof].nunique())))\n",
    "    return prof_dict"
   ]
  },
  {
   "cell_type": "code",
   "execution_count": 78,
   "metadata": {},
   "outputs": [],
   "source": [
    "# profile_dict = profile_tokenization(data, [\"INSURANCE\", \"LANGUAGE\", \"RELIGION\", \"MARITAL_STATUS\", \"ETHNICITY\"])\n",
    "# json.dump(profile_dict, open(\"./handled/full_profile_dict.json\", \"w\"))"
   ]
  },
  {
   "attachments": {},
   "cell_type": "markdown",
   "metadata": {},
   "source": [
    "## Step 4: Construct Prompt\n",
    "Design the prompt templates and construct the prompt"
   ]
  },
  {
   "cell_type": "code",
   "execution_count": 79,
   "metadata": {},
   "outputs": [],
   "source": [
    "# prompt templates\n",
    "main_template = \"The patient has <VISIT_NUM> times ICU visits. \\n <HISTORY> In this visit, he has diagnosis: <DIAGNOSIS>; procedures: <PROCEDURE>. Then, the patient should be prescribed: \"\n",
    "hist_template = \"In <VISIT_NO> visit, the patient had diagnosis: <DIAGNOSIS>; procedures: <PROCEDURE>. The patient was prescribed drugs: <MEDICATION>. \\n\""
   ]
  },
  {
   "cell_type": "code",
   "execution_count": 80,
   "metadata": {},
   "outputs": [],
   "source": [
    "# add some patient's profiles\n",
    "# main_template = \"The patient's insurance type is <INSU>, language is <LANG>, religion is <RELIGION>, marital status is <MARITAL>, ethnicity is <ETHN>. The patient has <VISIT_NUM> times ICU visits. \\n <HISTORY> In this visit, he has diagnosis: <DIAGNOSIS>; procedures: <PROCEDURE>. Then, the patient should be prescribed: \""
   ]
  },
  {
   "cell_type": "code",
   "execution_count": 81,
   "metadata": {},
   "outputs": [],
   "source": [
    "def concat_str(str_list):\n",
    "    # concat a list of drug / diagnosis / procedures\n",
    "    target_str = \"\"\n",
    "    for meta_str in str_list:\n",
    "        target_str = target_str + meta_str + \", \"\n",
    "    target_str = target_str[:-2]    # remove the last comma\n",
    "\n",
    "    return target_str"
   ]
  },
  {
   "cell_type": "code",
   "execution_count": 82,
   "metadata": {},
   "outputs": [],
   "source": [
    "llm_data = []\n",
    "\n",
    "for subject_id in data[\"SUBJECT_ID\"].unique():\n",
    "    item_df = data[data[\"SUBJECT_ID\"] == subject_id]\n",
    "    visit_num = item_df.shape[0] - 1\n",
    "    patient = []\n",
    "\n",
    "    profile = item_df.iloc[0]\n",
    "    patient_str = main_template.replace(\"<INSU>\", profile[\"INSURANCE\"].lower())\\\n",
    "                               .replace(\"<LANG>\", profile[\"LANGUAGE\"].lower())\\\n",
    "                               .replace(\"<RELIGION>\", profile[\"RELIGION\"].lower())\\\n",
    "                               .replace(\"<MARITAL>\", profile[\"MARITAL_STATUS\"].lower())\\\n",
    "                               .replace(\"<ETHN>\", profile[\"ETHNICITY\"].lower())\n",
    "\n",
    "    patient_profile = {\"INSURANCE\": profile[\"INSURANCE\"], \"LANGUAGE\": profile[\"LANGUAGE\"],\n",
    "                       \"RELIGION\": profile[\"RELIGION\"], \"MARITAL_STATUS\": profile[\"MARITAL_STATUS\"],\n",
    "                       \"ETHNICITY\": profile[\"ETHNICITY\"]}\n",
    "\n",
    "    # get each historical visit string\n",
    "    for visit_no, (_, row) in enumerate(item_df.iterrows()):\n",
    "        drug, diag, proc = concat_str(row[\"drug\"]), concat_str(row[\"diagnosis\"]), concat_str(row[\"procedure\"])\n",
    "        patient.append(hist_template.replace(\"<VISIT_NO>\", str(visit_no+1))\\\n",
    "                                    .replace(\"<DIGNOSIS>\", diag)\\\n",
    "                                    .replace(\"<PROCEDURE>\", proc)\\\n",
    "                                    .replace(\"<MEDICATION>\", drug))\n",
    "    patient.pop()   # remove the ground truth record\n",
    "\n",
    "    # filter out the patients with more than N times visits\n",
    "    if len(patient) > 3:\n",
    "        patient = patient[-3:]\n",
    "\n",
    "    # concat all historical visit strings and get hist strings\n",
    "    hist_str = \"\"\n",
    "    for meta_hist in patient:\n",
    "        hist_str += meta_hist\n",
    "    \n",
    "    patient_str = patient_str.replace(\"<VISIT_NUM>\", str(visit_num))\\\n",
    "                             .replace(\"<HISTORY>\", hist_str)\\\n",
    "                             .replace(\"<DIAGNOSIS>\", diag)\\\n",
    "                             .replace(\"<PROCEDURE>\", proc)\n",
    "    \n",
    "    drug_code = [str(x) for x in row[\"ATC3\"]]\n",
    "\n",
    "    hist = {\"diagnosis\": [], \"procedure\": [], \"medication\": []}\n",
    "    for _, row in item_df.iterrows():\n",
    "        hist[\"diagnosis\"].append([str(x) for x in row[\"ICD9_CODE\"]])\n",
    "        hist[\"procedure\"].append([str(x) for x in row[\"PRO_CODE\"]])\n",
    "        hist[\"medication\"].append([str(x) for x in row[\"ATC3\"]])\n",
    "        \n",
    "    llm_data.append({\"input\": patient_str, \"target\": drug, \n",
    "                     \"subject_id\": int(subject_id), \"drug_code\": drug_code,\n",
    "                     \"records\": hist, \"profile\": patient_profile})\n",
    "        "
   ]
  },
  {
   "cell_type": "code",
   "execution_count": 83,
   "metadata": {},
   "outputs": [],
   "source": [
    "file_path = \"./handled/\"\n",
    "\n",
    "def read_data(data_path):\n",
    "    '''read data from jsonlines file'''\n",
    "    data = []\n",
    "\n",
    "    with jsonlines.open(file_path + data_path, \"r\") as f:\n",
    "        for meta_data in f:\n",
    "            data.append(meta_data)\n",
    "\n",
    "    return data\n",
    "\n",
    "\n",
    "def save_data(data_path, data):\n",
    "    '''write all_data list to a new jsonl'''\n",
    "    with jsonlines.open(file_path + data_path, \"w\") as w:\n",
    "        for meta_data in data:\n",
    "            w.write(meta_data)"
   ]
  },
  {
   "cell_type": "code",
   "execution_count": 84,
   "metadata": {},
   "outputs": [],
   "source": [
    "# split the dataset: 8:1:1\n",
    "train_split = int(len(llm_data) * 0.8)\n",
    "val_split = int(len(llm_data) * 0.1)\n",
    "train = llm_data[:train_split]\n",
    "val = llm_data[train_split:train_split+val_split]\n",
    "test = llm_data[train_split+val_split:]"
   ]
  },
  {
   "cell_type": "code",
   "execution_count": 85,
   "metadata": {},
   "outputs": [],
   "source": [
    "# cut too long sequences\n",
    "save_data(\"train_0105.json\", train)\n",
    "save_data(\"val_0105.json\", val)\n",
    "save_data(\"test_0105.json\", test)"
   ]
  }
 ],
 "metadata": {
  "kernelspec": {
   "display_name": "llm",
   "language": "python",
   "name": "python3"
  },
  "language_info": {
   "codemirror_mode": {
    "name": "ipython",
    "version": 3
   },
   "file_extension": ".py",
   "mimetype": "text/x-python",
   "name": "python",
   "nbconvert_exporter": "python",
   "pygments_lexer": "ipython3",
   "version": "3.10.12"
  },
  "orig_nbformat": 4
 },
 "nbformat": 4,
 "nbformat_minor": 2
}
